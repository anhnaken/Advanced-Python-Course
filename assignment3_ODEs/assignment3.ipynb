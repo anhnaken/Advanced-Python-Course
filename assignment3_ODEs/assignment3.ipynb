{
 "cells": [
  {
   "cell_type": "code",
   "execution_count": 1,
   "metadata": {},
   "outputs": [],
   "source": [
    "import numpy as np\n",
    "import matplotlib.pyplot as plt"
   ]
  },
  {
   "cell_type": "code",
   "execution_count": 2,
   "metadata": {},
   "outputs": [],
   "source": [
    "def accel_grav(mass, position):\n",
    "    N = mass.shape[0]\n",
    "    accel_grav = np.zeros([N,3])\n",
    "    for i in range(N-1):\n",
    "        for j in range(i+1,N):\n",
    "            displacement = position[j,:]-position[i,:]\n",
    "            distance_cubed = (displacement[0]**2+displacement[1]**2+displacement[2]**2)**1.5\n",
    "            displacement = displacement/distance_cubed\n",
    "            accel_grav[i,:] += mass[j]*displacement\n",
    "            accel_grav[j,:] -= mass[i]*displacement\n",
    "    return accel_grav\n",
    "\n",
    "def first_step(position,velocity,acceleration,dt):\n",
    "    return position+dt*velocity+0.5*(dt**2)*acceleration\n",
    "\n",
    "def verlet_step(position,position_old,acceleration,dt):\n",
    "    return 2.0*position-position_old+(dt**2)*acceleration"
   ]
  },
  {
   "cell_type": "code",
   "execution_count": 3,
   "metadata": {},
   "outputs": [],
   "source": [
    "# Define computational units: masses in solar masses, distances in AUs, time in Earth years\n",
    "G=4.0*np.pi**2"
   ]
  },
  {
   "cell_type": "code",
   "execution_count": 4,
   "metadata": {},
   "outputs": [],
   "source": [
    "# System of two masses, one with 1.00 solar mass, the other with 0.1 solar mass (roughly 100x mass of Jupiter)\n",
    "N=2\n",
    "mass=np.array([1.00,0.1])\n",
    "\n",
    "# Choose orbital period of 1.0 Earth year\n",
    "T=1.0\n",
    "w=2.0*np.pi/T\n",
    "\n",
    "# Kepler's 3rd Law to compute semi-major axis\n",
    "M=np.sum(mass)\n",
    "a=(G*M/w**2)**(1.0/3.0)\n",
    "\n",
    "# Initial positions: place two masses on x-axis with center-of-mass at origin\n",
    "# rows: different masses; columns: x, y, z coordinates\n",
    "position=np.zeros([N,3])\n",
    "position[0,:]=np.array([-a*mass[1]/M,0,0])\n",
    "position[1,:]=np.array([+a*mass[0]/M,0,0])\n",
    "\n",
    "# Initial velocities: Circular orbits - with initial positions on x-axis, initial velocities in y-direction\n",
    "# rows: different masses; columns: x, y, z components of velocity\n",
    "velocity=np.zeros([N,3])\n",
    "velocity[0,:]=np.array([0,position[0,0],0])*w*1.25\n",
    "velocity[1,:]=np.array([0,position[1,0],0])*w*1.25"
   ]
  },
  {
   "cell_type": "code",
   "execution_count": 5,
   "metadata": {},
   "outputs": [],
   "source": [
    "# Step size and number of time steps\n",
    "dt=T/720.0\n",
    "tot_time=4.0\n",
    "num_steps=np.ceil(tot_time/dt).astype(int)\n",
    "positions=np.zeros([N,3,num_steps+1])\n",
    "positions[:,:,0]=position"
   ]
  },
  {
   "cell_type": "code",
   "execution_count": 6,
   "metadata": {},
   "outputs": [],
   "source": [
    "# First time step\n",
    "acceleration=G*accel_grav(mass,position)\n",
    "position_new=first_step(position,velocity,acceleration,dt)\n",
    "position_old=position\n",
    "position=position_new\n",
    "positions[:,:,1]=position"
   ]
  },
  {
   "cell_type": "code",
   "execution_count": 7,
   "metadata": {},
   "outputs": [],
   "source": [
    "# Loop through time steps 2 through num_steps\n",
    "for t in range(2,num_steps+1):\n",
    "    acceleration=G*accel_grav(mass,position)\n",
    "    position_new=verlet_step(position,position_old,acceleration,dt)\n",
    "    position_old=position\n",
    "    position=position_new\n",
    "    positions[:,:,t]=position"
   ]
  },
  {
   "cell_type": "code",
   "execution_count": 8,
   "metadata": {
    "scrolled": true
   },
   "outputs": [
    {
     "name": "stdout",
     "output_type": "stream",
     "text": [
      "[[[-9.38436469e-02 -9.38400736e-02 -9.38293544e-02 ...  1.15481529e-01\n",
      "    1.16030105e-01  1.16577913e-01]\n",
      "  [ 0.00000000e+00 -1.02367539e-03 -2.04727282e-03 ... -1.77304967e-01\n",
      "   -1.77315356e-01 -1.77324572e-01]\n",
      "  [ 0.00000000e+00  0.00000000e+00  0.00000000e+00 ...  0.00000000e+00\n",
      "    0.00000000e+00  0.00000000e+00]]\n",
      "\n",
      " [[ 9.38436469e-01  9.38400736e-01  9.38293544e-01 ... -1.15481529e+00\n",
      "   -1.16030105e+00 -1.16577913e+00]\n",
      "  [ 0.00000000e+00  1.02367539e-02  2.04727282e-02 ...  1.77304967e+00\n",
      "    1.77315356e+00  1.77324572e+00]\n",
      "  [ 0.00000000e+00  0.00000000e+00  0.00000000e+00 ...  0.00000000e+00\n",
      "    0.00000000e+00  0.00000000e+00]]]\n"
     ]
    },
    {
     "data": {
      "image/png": "[encoded data removed]",
      "text/plain": [
       "<Figure size 432x288 with 1 Axes>"
      ]
     },
     "metadata": {
      "needs_background": "light"
     },
     "output_type": "display_data"
    }
   ],
   "source": [
    "plt.plot(positions[1,0,:],positions[1,1,:],'b-',positions[0,0,:],positions[0,1,:],'r-')\n",
    "plt.axis('equal');\n",
    "plt.xlabel('x (AU)');\n",
    "plt.ylabel('y (AU)');\n",
    "\n"
   ]
  },
  {
   "cell_type": "code",
   "execution_count": 9,
   "metadata": {},
   "outputs": [],
   "source": []
  },
  {
   "cell_type": "code",
   "execution_count": null,
   "metadata": {},
   "outputs": [],
   "source": []
  }
 ],
 "metadata": {
  "kernelspec": {
   "display_name": "Python 3",
   "language": "python",
   "name": "python3"
  },
  "language_info": {
   "codemirror_mode": {
    "name": "ipython",
    "version": 3
   },
   "file_extension": ".py",
   "mimetype": "text/x-python",
   "name": "python",
   "nbconvert_exporter": "python",
   "pygments_lexer": "ipython3",
   "version": "3.8.8"
  }
 },
 "nbformat": 4,
 "nbformat_minor": 2
}
